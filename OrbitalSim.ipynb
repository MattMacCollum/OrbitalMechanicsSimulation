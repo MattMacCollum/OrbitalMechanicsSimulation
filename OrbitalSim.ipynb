{
 "cells": [
  {
   "cell_type": "code",
   "execution_count": 1,
   "id": "e434f408-25e1-46c6-a683-7a7722cdd821",
   "metadata": {},
   "outputs": [],
   "source": [
    "import numpy as np\n",
    "from vectors import Vector"
   ]
  },
  {
   "cell_type": "code",
   "execution_count": 2,
   "id": "bd15b6cc-8d31-4e34-abb0-d162d75eae32",
   "metadata": {},
   "outputs": [
    {
     "name": "stdout",
     "output_type": "stream",
     "text": [
      "Vector(1,4,7)\n",
      "1i + 4j + 7k\n"
     ]
    }
   ],
   "source": [
    "test = Vector(1,4,7)\n",
    "\n",
    "print(repr(test))\n",
    "\n",
    "print(str(test))\n",
    "\n"
   ]
  },
  {
   "cell_type": "code",
   "execution_count": 3,
   "id": "144a0075-520f-4ae2-8c84-19d796aebd07",
   "metadata": {},
   "outputs": [
    {
     "name": "stdout",
     "output_type": "stream",
     "text": [
      "1\n"
     ]
    }
   ],
   "source": [
    "print(test[0])"
   ]
  },
  {
   "cell_type": "code",
   "execution_count": 4,
   "id": "d75d807a-57f1-4f6e-a0f8-4c78c5e727a7",
   "metadata": {},
   "outputs": [],
   "source": [
    "test_add = Vector(3,6,2) + Vector(2,7,3)\n",
    "test_sub = Vector(3,6,2) - Vector(2,7,3)\n"
   ]
  },
  {
   "cell_type": "code",
   "execution_count": 5,
   "id": "15a2c993-0893-44c9-b097-5202364026a0",
   "metadata": {},
   "outputs": [
    {
     "name": "stdout",
     "output_type": "stream",
     "text": [
      "5i + 13j + 5k\n",
      "1i + -1j + -1k\n"
     ]
    }
   ],
   "source": [
    "print(test_add)\n",
    "print(test_sub)"
   ]
  },
  {
   "cell_type": "code",
   "execution_count": 6,
   "id": "8463a02a-8c65-493e-938e-752c14bdbbfc",
   "metadata": {},
   "outputs": [
    {
     "name": "stdout",
     "output_type": "stream",
     "text": [
      "4i + 16j + 28k\n",
      "42i + 0.0j + 0.0k\n"
     ]
    }
   ],
   "source": [
    "print(test * 4)\n",
    "print(test * Vector(1,5,3))"
   ]
  },
  {
   "cell_type": "code",
   "execution_count": 7,
   "id": "d1cd84f5-bbe8-4c5a-8833-efeba1351602",
   "metadata": {},
   "outputs": [],
   "source": [
    "test_div = test/2"
   ]
  },
  {
   "cell_type": "code",
   "execution_count": 8,
   "id": "b71c0f71-b384-4e78-bce4-a14d42bf42e2",
   "metadata": {},
   "outputs": [
    {
     "name": "stdout",
     "output_type": "stream",
     "text": [
      "Magnitude of test vecor 1i + 4j + 7k: 8.12403840463596\n",
      "Normalised test vector: 0.12309149097933272i + 0.4923659639173309j + 0.8616404368553291k\n"
     ]
    }
   ],
   "source": [
    "mag = test.get_magnitude()\n",
    "print(f\"Magnitude of test vecor {test}: {mag}\")\n",
    "print(f\"Normalised test vector: {test.normalise()}\")"
   ]
  },
  {
   "cell_type": "code",
   "execution_count": 9,
   "id": "bdb425d3-7268-439c-b167-a0542a01e3cc",
   "metadata": {},
   "outputs": [
    {
     "name": "stdout",
     "output_type": "stream",
     "text": [
      "0.9999999999999999\n"
     ]
    }
   ],
   "source": [
    "print(test.normalise().get_magnitude())"
   ]
  },
  {
   "cell_type": "code",
   "execution_count": null,
   "id": "12dd09ec-aa04-4982-ae00-2145d23fb833",
   "metadata": {},
   "outputs": [],
   "source": []
  }
 ],
 "metadata": {
  "kernelspec": {
   "display_name": "Python 3 (ipykernel)",
   "language": "python",
   "name": "python3"
  },
  "language_info": {
   "codemirror_mode": {
    "name": "ipython",
    "version": 3
   },
   "file_extension": ".py",
   "mimetype": "text/x-python",
   "name": "python",
   "nbconvert_exporter": "python",
   "pygments_lexer": "ipython3",
   "version": "3.9.17"
  }
 },
 "nbformat": 4,
 "nbformat_minor": 5
}
