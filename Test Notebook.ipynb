{
 "cells": [
  {
   "cell_type": "code",
   "execution_count": null,
   "id": "02591da8-abfa-4f75-b81a-8c0bc1237dfa",
   "metadata": {},
   "outputs": [],
   "source": [
    "import numpy as np\n",
    "import matplotlib.pyplot as plt\n",
    "from vectors import Vector"
   ]
  },
  {
   "cell_type": "code",
   "execution_count": null,
   "id": "9a386fe4-3c84-4f43-abec-f5acad3e2ba9",
   "metadata": {},
   "outputs": [],
   "source": [
    "test = Vector(1,4,7)\n",
    "\n",
    "print(repr(test))\n",
    "\n",
    "print(str(test))\n"
   ]
  },
  {
   "cell_type": "code",
   "execution_count": null,
   "id": "ef653465-a90f-4a76-8e63-0cfe790a1d42",
   "metadata": {},
   "outputs": [],
   "source": [
    "print(test[0])"
   ]
  },
  {
   "cell_type": "code",
   "execution_count": null,
   "id": "816a12ed-ea4d-4f16-8347-e6f1a105c1df",
   "metadata": {},
   "outputs": [],
   "source": [
    "test_add = Vector(3,6,2) + Vector(2,7,3)\n",
    "test_sub = Vector(3,6,2) - Vector(2,7,3)\n",
    "\n",
    "print(test_add)\n",
    "print(test_sub)"
   ]
  },
  {
   "cell_type": "code",
   "execution_count": null,
   "id": "b5e2c361-a419-4b23-8d56-9a35e7a3aa78",
   "metadata": {},
   "outputs": [],
   "source": [
    "print(test * 4)\n",
    "print(test * Vector(1,5,3))"
   ]
  },
  {
   "cell_type": "code",
   "execution_count": null,
   "id": "0bf58165-cdef-4a9f-8108-e70832fe87cb",
   "metadata": {},
   "outputs": [],
   "source": [
    "test_div = test/2\n",
    "\n",
    "print(repr(test_div))"
   ]
  },
  {
   "cell_type": "code",
   "execution_count": null,
   "id": "7c2cf984-9536-4a82-9b5d-c3525dade596",
   "metadata": {},
   "outputs": [],
   "source": [
    "mag = test.get_magnitude()\n",
    "print(f\"Magnitude of test vecor {test}: {mag}\")\n",
    "print(f\"Normalised test vector: {test.normalise()}\")"
   ]
  },
  {
   "cell_type": "code",
   "execution_count": null,
   "id": "58cafc59-8752-499e-86bf-83aec809e963",
   "metadata": {},
   "outputs": [],
   "source": [
    "print(test.normalise().get_magnitude())"
   ]
  },
  {
   "cell_type": "code",
   "execution_count": null,
   "id": "6a27da57-ebac-4b93-af81-1e06e847ca58",
   "metadata": {},
   "outputs": [],
   "source": []
  }
 ],
 "metadata": {
  "kernelspec": {
   "display_name": "Python 3 (ipykernel)",
   "language": "python",
   "name": "python3"
  },
  "language_info": {
   "codemirror_mode": {
    "name": "ipython",
    "version": 3
   },
   "file_extension": ".py",
   "mimetype": "text/x-python",
   "name": "python",
   "nbconvert_exporter": "python",
   "pygments_lexer": "ipython3",
   "version": "3.9.17"
  }
 },
 "nbformat": 4,
 "nbformat_minor": 5
}
